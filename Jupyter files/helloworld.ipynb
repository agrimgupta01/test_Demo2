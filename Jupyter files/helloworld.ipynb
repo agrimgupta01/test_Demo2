{
 "cells": [
  {
   "cell_type": "code",
   "execution_count": 136,
   "id": "36d5ce83",
   "metadata": {
    "scrolled": true
   },
   "outputs": [
    {
     "name": "stdout",
     "output_type": "stream",
     "text": [
      "(18, 2)\n",
      "(18,)\n",
      "Depth of the Decision Tree : 3\n",
      "(13, 2)\n",
      "(13,)\n",
      "['Dance']\n",
      "Accuracy Score of the Decision Tree : 1.0\n"
     ]
    },
    {
     "name": "stderr",
     "output_type": "stream",
     "text": [
      "/home/cool_dude/anaconda3/lib/python3.9/site-packages/sklearn/base.py:450: UserWarning: X does not have valid feature names, but DecisionTreeClassifier was fitted with feature names\n",
      "  warnings.warn(\n"
     ]
    }
   ],
   "source": [
    "import pandas as pd\n",
    "from sklearn.tree import DecisionTreeClassifier\n",
    "from sklearn.model_selection import train_test_split\n",
    "from sklearn.metrics import accuracy_score\n",
    "import joblib\n",
    "from sklearn import tree\n",
    "\n",
    "music_data = pd.read_csv('music.csv')\n",
    "X = music_data.drop(columns=['genre'])\n",
    "print(X.shape)\n",
    "Y = music_data['genre']\n",
    "print(Y.shape)\n",
    "X_train, X_test, Y_train, Y_test = train_test_split(X, Y, test_size = 0.25)\n",
    "\n",
    "model =  DecisionTreeClassifier()\n",
    "model.fit(X_train, Y_train)\n",
    "\n",
    "print('Depth of the Decision Tree :', model.get_depth())\n",
    "print(X_train.shape)\n",
    "print(Y_train.shape)\n",
    "joblib.dump(model, 'music-recommender_2.joblib')\n",
    "\n",
    "predictions = model.predict(X_test) \n",
    "prediction2 = model.predict([[21,0]])\n",
    "print(prediction2)\n",
    "\n",
    "score = accuracy_score(Y_test, predictions)\n",
    "print('Accuracy Score of the Decision Tree :', score)\n",
    "\n",
    "tree.export_graphviz(model, out_file='music-recommend.dot',\n",
    "                    feature_names=['age', 'gender'],\n",
    "                    class_names=sorted(Y.unique()),\n",
    "                    label='all',\n",
    "                    rounded=True,\n",
    "                    filled=True)"
   ]
  }
 ],
 "metadata": {
  "kernelspec": {
   "display_name": "Python 3 (ipykernel)",
   "language": "python",
   "name": "python3"
  },
  "language_info": {
   "codemirror_mode": {
    "name": "ipython",
    "version": 3
   },
   "file_extension": ".py",
   "mimetype": "text/x-python",
   "name": "python",
   "nbconvert_exporter": "python",
   "pygments_lexer": "ipython3",
   "version": "3.9.12"
  }
 },
 "nbformat": 4,
 "nbformat_minor": 5
}
