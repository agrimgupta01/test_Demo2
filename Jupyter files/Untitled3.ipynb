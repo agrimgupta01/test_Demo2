{
 "cells": [
  {
   "cell_type": "code",
   "execution_count": 2,
   "id": "3ae9ca66",
   "metadata": {},
   "outputs": [
    {
     "name": "stdout",
     "output_type": "stream",
     "text": [
      "datetime64[ns]\n",
      "\n",
      "RMSE on train dataset :  2232649.6810268355\n",
      "Accuracy Score of the Decision Tree : 0.18599888288959227\n",
      "\n",
      "RMSE on test dataset :  2116765.252177227\n",
      "Accuracy Score of the Decision Tree : 0.0\n",
      "[204780]\n"
     ]
    }
   ],
   "source": [
    "import pandas as pd\n",
    "from sklearn.linear_model import LinearRegression\n",
    "from sklearn.linear_model import LogisticRegression\n",
    "from sklearn.tree import DecisionTreeClassifier\n",
    "from sklearn.svm import SVC\n",
    "from sklearn.naive_bayes import GaussianNB\n",
    "from sklearn.neighbors import KNeighborsClassifier\n",
    "from sklearn.cluster import KMeans\n",
    "from sklearn.ensemble import RandomForestClassifier\n",
    "from sklearn.ensemble import GradientBoostingClassifier\n",
    "from sklearn.metrics import mean_squared_error\n",
    "from sklearn.model_selection import train_test_split\n",
    "from sklearn.metrics import accuracy_score\n",
    "import datetime\n",
    "from sklearn import preprocessing\n",
    "from sklearn import utils\n",
    "\n",
    "data=pd.read_csv('A.csv',parse_dates=['Date'],infer_datetime_format=True)\n",
    "# data['created_at'] = pd.to_datetime(data['created_at'],format = '%d-%m-%Y')\n",
    "\n",
    "X=data['Date']\n",
    "print(X.dtype)\n",
    "Y=data['Volume']\n",
    "X_train, X_test, Y_train, Y_test = train_test_split(X, Y, test_size = 0.05)\n",
    "\n",
    "model = KNeighborsClassifier()\n",
    "\n",
    "A=X_train.values.reshape(-1,1)\n",
    "B=X_test.values.reshape(-1,1)\n",
    "\n",
    "model.fit(A,Y_train)\n",
    "\n",
    "predict_train = model.predict(A)\n",
    "\n",
    "# Root Mean Squared Error on training dataset\n",
    "rmse_train = mean_squared_error(Y_train,predict_train)**(0.5)\n",
    "print('\\nRMSE on train dataset : ', rmse_train)\n",
    "\n",
    "score1 = accuracy_score(Y_train, predict_train)\n",
    "print('Accuracy Score of the Decision Tree :', score1)\n",
    "\n",
    "predict_test = model.predict(B)\n",
    "\n",
    "# Root Mean Squared Error on testing dataset\n",
    "rmse_test = mean_squared_error(Y_test,predict_test)**(0.5)\n",
    "print('\\nRMSE on test dataset : ', rmse_test)\n",
    "\n",
    "score2 = accuracy_score(Y_test, predict_test)\n",
    "print('Accuracy Score of the Decision Tree :', score2)\n",
    "\n",
    "prediction2=model.predict([pd.to_datetime(['19-08-2022'],format = '%d-%m-%Y').values.astype(\"float\")])\n",
    "print(prediction2)\n"
   ]
  },
  {
   "cell_type": "code",
   "execution_count": null,
   "id": "7b3a22dc",
   "metadata": {},
   "outputs": [],
   "source": []
  }
 ],
 "metadata": {
  "kernelspec": {
   "display_name": "Python 3 (ipykernel)",
   "language": "python",
   "name": "python3"
  },
  "language_info": {
   "codemirror_mode": {
    "name": "ipython",
    "version": 3
   },
   "file_extension": ".py",
   "mimetype": "text/x-python",
   "name": "python",
   "nbconvert_exporter": "python",
   "pygments_lexer": "ipython3",
   "version": "3.9.12"
  }
 },
 "nbformat": 4,
 "nbformat_minor": 5
}
