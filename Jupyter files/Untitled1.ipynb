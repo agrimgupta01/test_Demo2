{
 "cells": [
  {
   "cell_type": "code",
   "execution_count": 4,
   "id": "3ce6d870",
   "metadata": {
    "scrolled": true
   },
   "outputs": [
    {
     "name": "stdout",
     "output_type": "stream",
     "text": [
      "855    2020-11-09\n",
      "339    2019-05-26\n",
      "940    2021-02-02\n",
      "466    2020-07-07\n",
      "394    2019-07-19\n",
      "          ...    \n",
      "63     2018-09-05\n",
      "743    2020-05-28\n",
      "1187   2021-10-04\n",
      "421    2019-08-15\n",
      "616    2020-02-12\n",
      "Name: created_at, Length: 1157, dtype: datetime64[ns]\n",
      "[['2020-11-09T00:00:00.000000000']\n",
      " ['2019-05-26T00:00:00.000000000']\n",
      " ['2021-02-02T00:00:00.000000000']\n",
      " ...\n",
      " ['2021-10-04T00:00:00.000000000']\n",
      " ['2019-08-15T00:00:00.000000000']\n",
      " ['2020-02-12T00:00:00.000000000']]\n",
      "\n",
      "RMSE on train dataset : 25.46559481745028\n",
      "\n",
      "Accuracy Score : 0.751904745253276\n",
      "\n",
      "RMSE on test dataset : 24.893388594254226\n",
      "\n",
      "Accuracy Score : 0.7135510915790109\n",
      "\n",
      "\n",
      "[215.74495432]\n",
      "[215.74495432]\n",
      "[215.74495432]\n",
      "[215.74495432]\n",
      "[215.74495432]\n",
      "[215.74495432]\n"
     ]
    }
   ],
   "source": [
    "import pandas as pd\n",
    "import numpy as np\n",
    "import lightgbm as lgb\n",
    "from sklearn.tree import DecisionTreeRegressor\n",
    "from sklearn import tree\n",
    "from sklearn import svm\n",
    "from sklearn.ensemble import GradientBoostingClassifier\n",
    "from sklearn.metrics import r2_score\n",
    "from sklearn.metrics import mean_squared_error\n",
    "from sklearn.model_selection import train_test_split\n",
    "from sklearn.metrics import accuracy_score\n",
    "import datetime\n",
    "from sklearn import preprocessing\n",
    "from sklearn import utils\n",
    "from pylab import rcParams\n",
    "\n",
    "df=pd.read_csv('MLDATA.csv')\n",
    "df['created_at'] = pd.to_datetime(df.created_at , format = '%d-%m-%Y')\n",
    "data = df['total_order_count']\n",
    "\n",
    "\n",
    "X=df['created_at']\n",
    "\n",
    "\n",
    "\n",
    "X_train, X_test, data_train, data_test = train_test_split(X, data, test_size = 0.15)\n",
    "print(X_train)\n",
    "A=X_train.values.reshape(-1,1)\n",
    "B=X_test.values.reshape(-1,1)\n",
    "print(A)\n",
    "model = lgb.LGBMRegressor()\n",
    "model.fit(A,data_train)\n",
    "\n",
    "\n",
    "predict_train = model.predict(A)                                                                                                                                                                                                                                                                                                                                                                                                                                                                                                                                                                                                                                                                                                                                                                                                                                                                                                                                                                                                                                                                                                   \n",
    "\n",
    "# Root Mean Squared Error on training dataset\n",
    "rmse_train = mean_squared_error(data_train,predict_train)**(0.5)\n",
    "print('\\nRMSE on train dataset :', rmse_train)\n",
    "\n",
    "score1 = r2_score(data_train, predict_train)\n",
    "print('\\nAccuracy Score :', score1)\n",
    "\n",
    "predict_test = model.predict(B)\n",
    "\n",
    "# Root Mean Squared Error on testing dataset\n",
    "rmse_test = mean_squared_error(data_test,predict_test)**(0.5)\n",
    "print('\\nRMSE on test dataset :', rmse_test)\n",
    "\n",
    "score2 = r2_score(data_test, predict_test)\n",
    "print('\\nAccuracy Score :', score2)\n",
    "\n",
    "\n",
    "print('\\n')\n",
    "print(model.predict([pd.to_datetime(['2022-05-30'],format = '%Y-%m-%d').values.astype(\"float\")]))\n",
    "print(model.predict([pd.to_datetime(['2022-06-27'],format = '%Y-%m-%d').values.astype(\"float\")]))\n",
    "print(model.predict([pd.to_datetime(['2022-07-20'],format = '%Y-%m-%d').values.astype(\"float\")]))\n",
    "print(model.predict([pd.to_datetime(['2022-08-06'],format = '%Y-%m-%d').values.astype(\"float\")]))\n",
    "print(model.predict([pd.to_datetime(['2022-09-10'],format = '%Y-%m-%d').values.astype(\"float\")]))\n",
    "print(model.predict([pd.to_datetime(['2022-09-28'],format = '%Y-%m-%d').values.astype(\"float\")]))"
   ]
  },
  {
   "cell_type": "code",
   "execution_count": null,
   "id": "f4fd7de5",
   "metadata": {},
   "outputs": [],
   "source": []
  },
  {
   "cell_type": "code",
   "execution_count": null,
   "id": "0802b677",
   "metadata": {},
   "outputs": [],
   "source": []
  },
  {
   "cell_type": "code",
   "execution_count": null,
   "id": "5824fda1",
   "metadata": {},
   "outputs": [],
   "source": []
  },
  {
   "cell_type": "code",
   "execution_count": null,
   "id": "7ed0ab8c",
   "metadata": {},
   "outputs": [],
   "source": []
  },
  {
   "cell_type": "code",
   "execution_count": null,
   "id": "941d98d5",
   "metadata": {},
   "outputs": [],
   "source": []
  }
 ],
 "metadata": {
  "kernelspec": {
   "display_name": "Python 3 (ipykernel)",
   "language": "python",
   "name": "python3"
  },
  "language_info": {
   "codemirror_mode": {
    "name": "ipython",
    "version": 3
   },
   "file_extension": ".py",
   "mimetype": "text/x-python",
   "name": "python",
   "nbconvert_exporter": "python",
   "pygments_lexer": "ipython3",
   "version": "3.9.12"
  }
 },
 "nbformat": 4,
 "nbformat_minor": 5
}
