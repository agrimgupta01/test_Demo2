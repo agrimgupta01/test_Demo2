{
 "cells": [
  {
   "cell_type": "code",
   "execution_count": 2,
   "id": "b40297f9",
   "metadata": {},
   "outputs": [
    {
     "name": "stdout",
     "output_type": "stream",
     "text": [
      "[['2012-09-13T00:00:00.000000000']\n",
      " ['2002-01-14T00:00:00.000000000']\n",
      " ['2005-07-21T00:00:00.000000000']\n",
      " ...\n",
      " ['2004-06-23T00:00:00.000000000']\n",
      " ['2002-03-06T00:00:00.000000000']\n",
      " ['2006-02-03T00:00:00.000000000']]\n",
      "2731     23.304722\n",
      "2685     21.201717\n",
      "1714     22.174536\n",
      "4542     66.709999\n",
      "5641    125.290001\n",
      "           ...    \n",
      "2289     11.051502\n",
      "1909     27.467812\n",
      "2584     23.147352\n",
      "3151     29.577969\n",
      "837      10.200286\n",
      "Name: Close, Length: 1131, dtype: float64\n",
      "[23.86981392 20.6509304  22.42489243 ... 22.95421982 29.0844059\n",
      " 10.15736771]\n",
      "Accuracy Score of the Decision Tree : 0.9989989197741056\n",
      "[28.88054466]\n"
     ]
    }
   ],
   "source": [
    "import pandas as pd\n",
    "from sklearn.tree import DecisionTreeRegressor\n",
    "from sklearn.model_selection import train_test_split\n",
    "from sklearn.metrics import r2_score\n",
    "from sklearn import preprocessing\n",
    "from sklearn import utils\n",
    "\n",
    "\n",
    "data=pd.read_csv('A.csv')\n",
    "C=data['Date']\n",
    "D= pd.to_datetime(C,format = '%d-%m-%Y',errors = 'coerce')\n",
    "X=D\n",
    "Y=data['Close']\n",
    "X_train, X_test, Y_train, Y_test = train_test_split(X, Y, test_size = 0.2)\n",
    "A=X_train.values.reshape(-1,1)\n",
    "B=X_test.values.reshape(-1,1)\n",
    "print(A)\n",
    "model =  DecisionTreeRegressor()\n",
    "model.fit(A,Y_train)\n",
    "\n",
    "predictions = model.predict(B) \n",
    "print(Y_test)\n",
    "print(predictions)\n",
    "score = r2_score(Y_test, predictions)\n",
    "\n",
    "print('Accuracy Score of the Decision Tree :', score)\n",
    "\n",
    "print(model.predict([[2022-7-9]]))\n",
    "\n"
   ]
  },
  {
   "cell_type": "code",
   "execution_count": null,
   "id": "b9d0e296",
   "metadata": {},
   "outputs": [],
   "source": []
  },
  {
   "cell_type": "code",
   "execution_count": null,
   "id": "d29508b9",
   "metadata": {},
   "outputs": [],
   "source": []
  },
  {
   "cell_type": "code",
   "execution_count": null,
   "id": "978fe107",
   "metadata": {},
   "outputs": [],
   "source": []
  }
 ],
 "metadata": {
  "kernelspec": {
   "display_name": "Python 3 (ipykernel)",
   "language": "python",
   "name": "python3"
  },
  "language_info": {
   "codemirror_mode": {
    "name": "ipython",
    "version": 3
   },
   "file_extension": ".py",
   "mimetype": "text/x-python",
   "name": "python",
   "nbconvert_exporter": "python",
   "pygments_lexer": "ipython3",
   "version": "3.9.12"
  }
 },
 "nbformat": 4,
 "nbformat_minor": 5
}
